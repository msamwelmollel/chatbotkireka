{
 "cells": [
  {
   "cell_type": "markdown",
   "metadata": {
    "papermill": {
     "duration": 0.027904,
     "end_time": "2022-02-17T09:59:35.445626",
     "exception": false,
     "start_time": "2022-02-17T09:59:35.417722",
     "status": "completed"
    },
    "tags": []
   },
   "source": [
    "<h1 align='center'><b>\n",
    "    <img src='https://media3.giphy.com/media/KAq5w47R9rmTuvWOWa/giphy.gif' width=100 height=100>\n",
    "    <font color='sky blue' face='lucida handwriting'size=300>Py</font><font color='yellow' face='lucida handwriting' size=300>Tech</font></b></h1>\n",
    "    "
   ]
  },
  {
   "cell_type": "markdown",
   "metadata": {
    "papermill": {
     "duration": 0.026247,
     "end_time": "2022-02-17T09:59:35.499063",
     "exception": false,
     "start_time": "2022-02-17T09:59:35.472816",
     "status": "completed"
    },
    "tags": []
   },
   "source": [
    "<h1><i><font face='Courier' size = 10>Importing Libraries</font></i></h1>"
   ]
  },
  {
   "cell_type": "code",
   "execution_count": 1,
   "metadata": {
    "_cell_guid": "b1076dfc-b9ad-4769-8c92-a6c4dae69d19",
    "_uuid": "8f2839f25d086af736a60e9eeb907d3b93b6e0e5",
    "execution": {
     "iopub.execute_input": "2022-02-17T09:59:35.562471Z",
     "iopub.status.busy": "2022-02-17T09:59:35.561608Z",
     "iopub.status.idle": "2022-02-17T09:59:42.682972Z",
     "shell.execute_reply": "2022-02-17T09:59:42.681760Z",
     "shell.execute_reply.started": "2022-02-17T08:47:31.336401Z"
    },
    "papermill": {
     "duration": 7.155532,
     "end_time": "2022-02-17T09:59:42.683285",
     "exception": false,
     "start_time": "2022-02-17T09:59:35.527753",
     "status": "completed"
    },
    "tags": []
   },
   "outputs": [],
   "source": [
    "import numpy as np \n",
    "import string\n",
    "import tensorflow as tf, tensorflow.keras.backend as K\n",
    "from nltk.corpus import stopwords\n",
    "import pandas as pd \n",
    "from sklearn.feature_extraction.text import CountVectorizer\n",
    "from sklearn.tree import DecisionTreeClassifier\n",
    "from sklearn.feature_extraction.text import TfidfTransformer,TfidfVectorizer\n",
    "from sklearn.pipeline import Pipeline\n",
    "import pickle"
   ]
  },
  {
   "cell_type": "code",
   "execution_count": 2,
   "metadata": {
    "execution": {
     "iopub.execute_input": "2022-02-17T09:59:42.739234Z",
     "iopub.status.busy": "2022-02-17T09:59:42.738557Z",
     "iopub.status.idle": "2022-02-17T09:59:42.741997Z",
     "shell.execute_reply": "2022-02-17T09:59:42.742523Z",
     "shell.execute_reply.started": "2022-02-17T08:47:37.758017Z"
    },
    "papermill": {
     "duration": 0.033123,
     "end_time": "2022-02-17T09:59:42.742661",
     "exception": false,
     "start_time": "2022-02-17T09:59:42.709538",
     "status": "completed"
    },
    "tags": []
   },
   "outputs": [],
   "source": [
    "#from tf.keras.wrappers.scikit_learn.feature_extraction.text import TfidfTransformer,TfidfVectorizer"
   ]
  },
  {
   "cell_type": "code",
   "execution_count": 3,
   "metadata": {
    "execution": {
     "iopub.execute_input": "2022-02-17T09:59:42.799589Z",
     "iopub.status.busy": "2022-02-17T09:59:42.798249Z",
     "iopub.status.idle": "2022-02-17T09:59:42.845826Z",
     "shell.execute_reply": "2022-02-17T09:59:42.846389Z",
     "shell.execute_reply.started": "2022-02-17T08:47:37.76378Z"
    },
    "papermill": {
     "duration": 0.077961,
     "end_time": "2022-02-17T09:59:42.846575",
     "exception": false,
     "start_time": "2022-02-17T09:59:42.768614",
     "status": "completed"
    },
    "tags": []
   },
   "outputs": [],
   "source": [
    "df = pd.read_csv('../input/simple-dialogs-for-chatbot/dialogs.txt',sep='\\t')"
   ]
  },
  {
   "cell_type": "code",
   "execution_count": 4,
   "metadata": {
    "execution": {
     "iopub.execute_input": "2022-02-17T09:59:42.904142Z",
     "iopub.status.busy": "2022-02-17T09:59:42.903092Z",
     "iopub.status.idle": "2022-02-17T09:59:42.907894Z",
     "shell.execute_reply": "2022-02-17T09:59:42.908407Z",
     "shell.execute_reply.started": "2022-02-17T08:47:37.800347Z"
    },
    "papermill": {
     "duration": 0.035117,
     "end_time": "2022-02-17T09:59:42.908566",
     "exception": false,
     "start_time": "2022-02-17T09:59:42.873449",
     "status": "completed"
    },
    "tags": []
   },
   "outputs": [],
   "source": [
    "a = pd.Series(df.columns)"
   ]
  },
  {
   "cell_type": "code",
   "execution_count": 5,
   "metadata": {
    "execution": {
     "iopub.execute_input": "2022-02-17T09:59:42.965770Z",
     "iopub.status.busy": "2022-02-17T09:59:42.964684Z",
     "iopub.status.idle": "2022-02-17T09:59:42.987752Z",
     "shell.execute_reply": "2022-02-17T09:59:42.987210Z",
     "shell.execute_reply.started": "2022-02-17T08:47:37.810897Z"
    },
    "papermill": {
     "duration": 0.052836,
     "end_time": "2022-02-17T09:59:42.987910",
     "exception": false,
     "start_time": "2022-02-17T09:59:42.935074",
     "status": "completed"
    },
    "tags": []
   },
   "outputs": [
    {
     "data": {
      "text/html": [
       "<div>\n",
       "<style scoped>\n",
       "    .dataframe tbody tr th:only-of-type {\n",
       "        vertical-align: middle;\n",
       "    }\n",
       "\n",
       "    .dataframe tbody tr th {\n",
       "        vertical-align: top;\n",
       "    }\n",
       "\n",
       "    .dataframe thead th {\n",
       "        text-align: right;\n",
       "    }\n",
       "</style>\n",
       "<table border=\"1\" class=\"dataframe\">\n",
       "  <thead>\n",
       "    <tr style=\"text-align: right;\">\n",
       "      <th></th>\n",
       "      <th>hi, how are you doing?</th>\n",
       "      <th>i'm fine. how about yourself?</th>\n",
       "    </tr>\n",
       "  </thead>\n",
       "  <tbody>\n",
       "    <tr>\n",
       "      <th>0</th>\n",
       "      <td>i'm fine. how about yourself?</td>\n",
       "      <td>i'm pretty good. thanks for asking.</td>\n",
       "    </tr>\n",
       "    <tr>\n",
       "      <th>1</th>\n",
       "      <td>i'm pretty good. thanks for asking.</td>\n",
       "      <td>no problem. so how have you been?</td>\n",
       "    </tr>\n",
       "    <tr>\n",
       "      <th>2</th>\n",
       "      <td>no problem. so how have you been?</td>\n",
       "      <td>i've been great. what about you?</td>\n",
       "    </tr>\n",
       "    <tr>\n",
       "      <th>3</th>\n",
       "      <td>i've been great. what about you?</td>\n",
       "      <td>i've been good. i'm in school right now.</td>\n",
       "    </tr>\n",
       "    <tr>\n",
       "      <th>4</th>\n",
       "      <td>i've been good. i'm in school right now.</td>\n",
       "      <td>what school do you go to?</td>\n",
       "    </tr>\n",
       "    <tr>\n",
       "      <th>...</th>\n",
       "      <td>...</td>\n",
       "      <td>...</td>\n",
       "    </tr>\n",
       "    <tr>\n",
       "      <th>3719</th>\n",
       "      <td>that's a good question. maybe it's not old age.</td>\n",
       "      <td>are you right-handed?</td>\n",
       "    </tr>\n",
       "    <tr>\n",
       "      <th>3720</th>\n",
       "      <td>are you right-handed?</td>\n",
       "      <td>yes. all my life.</td>\n",
       "    </tr>\n",
       "    <tr>\n",
       "      <th>3721</th>\n",
       "      <td>yes. all my life.</td>\n",
       "      <td>you're wearing out your right hand. stop using...</td>\n",
       "    </tr>\n",
       "    <tr>\n",
       "      <th>3722</th>\n",
       "      <td>you're wearing out your right hand. stop using...</td>\n",
       "      <td>but i do all my writing with my right hand.</td>\n",
       "    </tr>\n",
       "    <tr>\n",
       "      <th>3723</th>\n",
       "      <td>but i do all my writing with my right hand.</td>\n",
       "      <td>start typing instead. that way your left hand ...</td>\n",
       "    </tr>\n",
       "  </tbody>\n",
       "</table>\n",
       "<p>3724 rows × 2 columns</p>\n",
       "</div>"
      ],
      "text/plain": [
       "                                 hi, how are you doing?  \\\n",
       "0                         i'm fine. how about yourself?   \n",
       "1                   i'm pretty good. thanks for asking.   \n",
       "2                     no problem. so how have you been?   \n",
       "3                      i've been great. what about you?   \n",
       "4              i've been good. i'm in school right now.   \n",
       "...                                                 ...   \n",
       "3719    that's a good question. maybe it's not old age.   \n",
       "3720                              are you right-handed?   \n",
       "3721                                  yes. all my life.   \n",
       "3722  you're wearing out your right hand. stop using...   \n",
       "3723        but i do all my writing with my right hand.   \n",
       "\n",
       "                          i'm fine. how about yourself?  \n",
       "0                   i'm pretty good. thanks for asking.  \n",
       "1                     no problem. so how have you been?  \n",
       "2                      i've been great. what about you?  \n",
       "3              i've been good. i'm in school right now.  \n",
       "4                             what school do you go to?  \n",
       "...                                                 ...  \n",
       "3719                              are you right-handed?  \n",
       "3720                                  yes. all my life.  \n",
       "3721  you're wearing out your right hand. stop using...  \n",
       "3722        but i do all my writing with my right hand.  \n",
       "3723  start typing instead. that way your left hand ...  \n",
       "\n",
       "[3724 rows x 2 columns]"
      ]
     },
     "execution_count": 5,
     "metadata": {},
     "output_type": "execute_result"
    }
   ],
   "source": [
    "df"
   ]
  },
  {
   "cell_type": "code",
   "execution_count": 6,
   "metadata": {
    "execution": {
     "iopub.execute_input": "2022-02-17T09:59:43.046416Z",
     "iopub.status.busy": "2022-02-17T09:59:43.045734Z",
     "iopub.status.idle": "2022-02-17T09:59:43.056501Z",
     "shell.execute_reply": "2022-02-17T09:59:43.055749Z",
     "shell.execute_reply.started": "2022-02-17T08:47:37.837383Z"
    },
    "papermill": {
     "duration": 0.040691,
     "end_time": "2022-02-17T09:59:43.056617",
     "exception": false,
     "start_time": "2022-02-17T09:59:43.015926",
     "status": "completed"
    },
    "tags": []
   },
   "outputs": [],
   "source": [
    "a = a.rename({0: df.columns[0],1: df.columns[1]})"
   ]
  },
  {
   "cell_type": "markdown",
   "metadata": {
    "papermill": {
     "duration": 0.026549,
     "end_time": "2022-02-17T09:59:43.110726",
     "exception": false,
     "start_time": "2022-02-17T09:59:43.084177",
     "status": "completed"
    },
    "tags": []
   },
   "source": [
    "<h1><i><font face='Courier' size = 10>Adding some common Questions</font></i></h1>"
   ]
  },
  {
   "cell_type": "code",
   "execution_count": 7,
   "metadata": {
    "execution": {
     "iopub.execute_input": "2022-02-17T09:59:43.170032Z",
     "iopub.status.busy": "2022-02-17T09:59:43.168956Z",
     "iopub.status.idle": "2022-02-17T09:59:43.174018Z",
     "shell.execute_reply": "2022-02-17T09:59:43.174603Z",
     "shell.execute_reply.started": "2022-02-17T08:47:37.847908Z"
    },
    "papermill": {
     "duration": 0.036295,
     "end_time": "2022-02-17T09:59:43.174768",
     "exception": false,
     "start_time": "2022-02-17T09:59:43.138473",
     "status": "completed"
    },
    "tags": []
   },
   "outputs": [],
   "source": [
    "b = {'Questions':'Hi','Answers':'hello'}"
   ]
  },
  {
   "cell_type": "code",
   "execution_count": 8,
   "metadata": {
    "execution": {
     "iopub.execute_input": "2022-02-17T09:59:43.233617Z",
     "iopub.status.busy": "2022-02-17T09:59:43.232575Z",
     "iopub.status.idle": "2022-02-17T09:59:43.237326Z",
     "shell.execute_reply": "2022-02-17T09:59:43.238061Z",
     "shell.execute_reply.started": "2022-02-17T08:47:37.85662Z"
    },
    "papermill": {
     "duration": 0.036086,
     "end_time": "2022-02-17T09:59:43.238248",
     "exception": false,
     "start_time": "2022-02-17T09:59:43.202162",
     "status": "completed"
    },
    "tags": []
   },
   "outputs": [],
   "source": [
    "c = {'Questions':'Hello','Answers':'hi'}"
   ]
  },
  {
   "cell_type": "code",
   "execution_count": 9,
   "metadata": {
    "execution": {
     "iopub.execute_input": "2022-02-17T09:59:43.297191Z",
     "iopub.status.busy": "2022-02-17T09:59:43.296133Z",
     "iopub.status.idle": "2022-02-17T09:59:43.301056Z",
     "shell.execute_reply": "2022-02-17T09:59:43.301623Z",
     "shell.execute_reply.started": "2022-02-17T08:47:37.868947Z"
    },
    "papermill": {
     "duration": 0.036068,
     "end_time": "2022-02-17T09:59:43.301805",
     "exception": false,
     "start_time": "2022-02-17T09:59:43.265737",
     "status": "completed"
    },
    "tags": []
   },
   "outputs": [],
   "source": [
    "d= {'Questions':'how are you','Answers':\"i'm fine. how about yourself?\"}"
   ]
  },
  {
   "cell_type": "code",
   "execution_count": 10,
   "metadata": {
    "execution": {
     "iopub.execute_input": "2022-02-17T09:59:43.360108Z",
     "iopub.status.busy": "2022-02-17T09:59:43.359059Z",
     "iopub.status.idle": "2022-02-17T09:59:43.364166Z",
     "shell.execute_reply": "2022-02-17T09:59:43.364747Z",
     "shell.execute_reply.started": "2022-02-17T08:47:37.877169Z"
    },
    "papermill": {
     "duration": 0.036191,
     "end_time": "2022-02-17T09:59:43.364944",
     "exception": false,
     "start_time": "2022-02-17T09:59:43.328753",
     "status": "completed"
    },
    "tags": []
   },
   "outputs": [],
   "source": [
    "e= {'Questions':'how are you doing','Answers':\"i'm fine. how about yourself?\"}"
   ]
  },
  {
   "cell_type": "code",
   "execution_count": 11,
   "metadata": {
    "execution": {
     "iopub.execute_input": "2022-02-17T09:59:43.429774Z",
     "iopub.status.busy": "2022-02-17T09:59:43.429132Z",
     "iopub.status.idle": "2022-02-17T09:59:43.432318Z",
     "shell.execute_reply": "2022-02-17T09:59:43.431810Z",
     "shell.execute_reply.started": "2022-02-17T08:47:37.886652Z"
    },
    "papermill": {
     "duration": 0.039995,
     "end_time": "2022-02-17T09:59:43.432447",
     "exception": false,
     "start_time": "2022-02-17T09:59:43.392452",
     "status": "completed"
    },
    "tags": []
   },
   "outputs": [],
   "source": [
    "df = df.append(a,ignore_index=True)"
   ]
  },
  {
   "cell_type": "code",
   "execution_count": 12,
   "metadata": {
    "execution": {
     "iopub.execute_input": "2022-02-17T09:59:43.492993Z",
     "iopub.status.busy": "2022-02-17T09:59:43.492327Z",
     "iopub.status.idle": "2022-02-17T09:59:43.495057Z",
     "shell.execute_reply": "2022-02-17T09:59:43.494472Z",
     "shell.execute_reply.started": "2022-02-17T08:47:37.898297Z"
    },
    "papermill": {
     "duration": 0.035067,
     "end_time": "2022-02-17T09:59:43.495173",
     "exception": false,
     "start_time": "2022-02-17T09:59:43.460106",
     "status": "completed"
    },
    "tags": []
   },
   "outputs": [],
   "source": [
    "df.columns=['Questions','Answers']"
   ]
  },
  {
   "cell_type": "code",
   "execution_count": 13,
   "metadata": {
    "execution": {
     "iopub.execute_input": "2022-02-17T09:59:43.555391Z",
     "iopub.status.busy": "2022-02-17T09:59:43.554735Z",
     "iopub.status.idle": "2022-02-17T09:59:43.564029Z",
     "shell.execute_reply": "2022-02-17T09:59:43.564512Z",
     "shell.execute_reply.started": "2022-02-17T08:47:37.906149Z"
    },
    "papermill": {
     "duration": 0.041939,
     "end_time": "2022-02-17T09:59:43.564665",
     "exception": false,
     "start_time": "2022-02-17T09:59:43.522726",
     "status": "completed"
    },
    "tags": []
   },
   "outputs": [],
   "source": [
    "df = df.append([b,c,d,e],ignore_index=True)"
   ]
  },
  {
   "cell_type": "code",
   "execution_count": 14,
   "metadata": {
    "execution": {
     "iopub.execute_input": "2022-02-17T09:59:43.626502Z",
     "iopub.status.busy": "2022-02-17T09:59:43.625841Z",
     "iopub.status.idle": "2022-02-17T09:59:43.636893Z",
     "shell.execute_reply": "2022-02-17T09:59:43.636277Z",
     "shell.execute_reply.started": "2022-02-17T08:47:37.922275Z"
    },
    "papermill": {
     "duration": 0.045355,
     "end_time": "2022-02-17T09:59:43.637034",
     "exception": false,
     "start_time": "2022-02-17T09:59:43.591679",
     "status": "completed"
    },
    "tags": []
   },
   "outputs": [
    {
     "data": {
      "text/html": [
       "<div>\n",
       "<style scoped>\n",
       "    .dataframe tbody tr th:only-of-type {\n",
       "        vertical-align: middle;\n",
       "    }\n",
       "\n",
       "    .dataframe tbody tr th {\n",
       "        vertical-align: top;\n",
       "    }\n",
       "\n",
       "    .dataframe thead th {\n",
       "        text-align: right;\n",
       "    }\n",
       "</style>\n",
       "<table border=\"1\" class=\"dataframe\">\n",
       "  <thead>\n",
       "    <tr style=\"text-align: right;\">\n",
       "      <th></th>\n",
       "      <th>Questions</th>\n",
       "      <th>Answers</th>\n",
       "    </tr>\n",
       "  </thead>\n",
       "  <tbody>\n",
       "    <tr>\n",
       "      <th>0</th>\n",
       "      <td>i'm fine. how about yourself?</td>\n",
       "      <td>i'm pretty good. thanks for asking.</td>\n",
       "    </tr>\n",
       "    <tr>\n",
       "      <th>1</th>\n",
       "      <td>i'm pretty good. thanks for asking.</td>\n",
       "      <td>no problem. so how have you been?</td>\n",
       "    </tr>\n",
       "    <tr>\n",
       "      <th>2</th>\n",
       "      <td>no problem. so how have you been?</td>\n",
       "      <td>i've been great. what about you?</td>\n",
       "    </tr>\n",
       "    <tr>\n",
       "      <th>3</th>\n",
       "      <td>i've been great. what about you?</td>\n",
       "      <td>i've been good. i'm in school right now.</td>\n",
       "    </tr>\n",
       "    <tr>\n",
       "      <th>4</th>\n",
       "      <td>i've been good. i'm in school right now.</td>\n",
       "      <td>what school do you go to?</td>\n",
       "    </tr>\n",
       "    <tr>\n",
       "      <th>...</th>\n",
       "      <td>...</td>\n",
       "      <td>...</td>\n",
       "    </tr>\n",
       "    <tr>\n",
       "      <th>3724</th>\n",
       "      <td>hi, how are you doing?</td>\n",
       "      <td>i'm fine. how about yourself?</td>\n",
       "    </tr>\n",
       "    <tr>\n",
       "      <th>3725</th>\n",
       "      <td>Hi</td>\n",
       "      <td>hello</td>\n",
       "    </tr>\n",
       "    <tr>\n",
       "      <th>3726</th>\n",
       "      <td>Hello</td>\n",
       "      <td>hi</td>\n",
       "    </tr>\n",
       "    <tr>\n",
       "      <th>3727</th>\n",
       "      <td>how are you</td>\n",
       "      <td>i'm fine. how about yourself?</td>\n",
       "    </tr>\n",
       "    <tr>\n",
       "      <th>3728</th>\n",
       "      <td>how are you doing</td>\n",
       "      <td>i'm fine. how about yourself?</td>\n",
       "    </tr>\n",
       "  </tbody>\n",
       "</table>\n",
       "<p>3729 rows × 2 columns</p>\n",
       "</div>"
      ],
      "text/plain": [
       "                                     Questions  \\\n",
       "0                i'm fine. how about yourself?   \n",
       "1          i'm pretty good. thanks for asking.   \n",
       "2            no problem. so how have you been?   \n",
       "3             i've been great. what about you?   \n",
       "4     i've been good. i'm in school right now.   \n",
       "...                                        ...   \n",
       "3724                    hi, how are you doing?   \n",
       "3725                                        Hi   \n",
       "3726                                     Hello   \n",
       "3727                               how are you   \n",
       "3728                         how are you doing   \n",
       "\n",
       "                                       Answers  \n",
       "0          i'm pretty good. thanks for asking.  \n",
       "1            no problem. so how have you been?  \n",
       "2             i've been great. what about you?  \n",
       "3     i've been good. i'm in school right now.  \n",
       "4                    what school do you go to?  \n",
       "...                                        ...  \n",
       "3724             i'm fine. how about yourself?  \n",
       "3725                                     hello  \n",
       "3726                                        hi  \n",
       "3727             i'm fine. how about yourself?  \n",
       "3728             i'm fine. how about yourself?  \n",
       "\n",
       "[3729 rows x 2 columns]"
      ]
     },
     "execution_count": 14,
     "metadata": {},
     "output_type": "execute_result"
    }
   ],
   "source": [
    "df"
   ]
  },
  {
   "cell_type": "code",
   "execution_count": 15,
   "metadata": {
    "execution": {
     "iopub.execute_input": "2022-02-17T09:59:43.702747Z",
     "iopub.status.busy": "2022-02-17T09:59:43.701733Z",
     "iopub.status.idle": "2022-02-17T09:59:43.704364Z",
     "shell.execute_reply": "2022-02-17T09:59:43.704939Z",
     "shell.execute_reply.started": "2022-02-17T08:47:37.942561Z"
    },
    "papermill": {
     "duration": 0.04053,
     "end_time": "2022-02-17T09:59:43.705099",
     "exception": false,
     "start_time": "2022-02-17T09:59:43.664569",
     "status": "completed"
    },
    "tags": []
   },
   "outputs": [],
   "source": [
    "df = df.append(c,ignore_index=True)"
   ]
  },
  {
   "cell_type": "code",
   "execution_count": 16,
   "metadata": {
    "execution": {
     "iopub.execute_input": "2022-02-17T09:59:43.764778Z",
     "iopub.status.busy": "2022-02-17T09:59:43.763766Z",
     "iopub.status.idle": "2022-02-17T09:59:43.772240Z",
     "shell.execute_reply": "2022-02-17T09:59:43.772705Z",
     "shell.execute_reply.started": "2022-02-17T08:47:37.958473Z"
    },
    "papermill": {
     "duration": 0.04,
     "end_time": "2022-02-17T09:59:43.772893",
     "exception": false,
     "start_time": "2022-02-17T09:59:43.732893",
     "status": "completed"
    },
    "tags": []
   },
   "outputs": [],
   "source": [
    "df = df.append(d,ignore_index=True)"
   ]
  },
  {
   "cell_type": "code",
   "execution_count": 17,
   "metadata": {
    "execution": {
     "iopub.execute_input": "2022-02-17T09:59:43.832876Z",
     "iopub.status.busy": "2022-02-17T09:59:43.831866Z",
     "iopub.status.idle": "2022-02-17T09:59:43.840385Z",
     "shell.execute_reply": "2022-02-17T09:59:43.840882Z",
     "shell.execute_reply.started": "2022-02-17T08:47:37.970601Z"
    },
    "papermill": {
     "duration": 0.040542,
     "end_time": "2022-02-17T09:59:43.841068",
     "exception": false,
     "start_time": "2022-02-17T09:59:43.800526",
     "status": "completed"
    },
    "tags": []
   },
   "outputs": [],
   "source": [
    "df = df.append(d,ignore_index=True)"
   ]
  },
  {
   "cell_type": "code",
   "execution_count": 18,
   "metadata": {
    "execution": {
     "iopub.execute_input": "2022-02-17T09:59:43.901023Z",
     "iopub.status.busy": "2022-02-17T09:59:43.900018Z",
     "iopub.status.idle": "2022-02-17T09:59:43.913121Z",
     "shell.execute_reply": "2022-02-17T09:59:43.913591Z",
     "shell.execute_reply.started": "2022-02-17T08:47:37.980602Z"
    },
    "papermill": {
     "duration": 0.044711,
     "end_time": "2022-02-17T09:59:43.913760",
     "exception": false,
     "start_time": "2022-02-17T09:59:43.869049",
     "status": "completed"
    },
    "tags": []
   },
   "outputs": [
    {
     "data": {
      "text/html": [
       "<div>\n",
       "<style scoped>\n",
       "    .dataframe tbody tr th:only-of-type {\n",
       "        vertical-align: middle;\n",
       "    }\n",
       "\n",
       "    .dataframe tbody tr th {\n",
       "        vertical-align: top;\n",
       "    }\n",
       "\n",
       "    .dataframe thead th {\n",
       "        text-align: right;\n",
       "    }\n",
       "</style>\n",
       "<table border=\"1\" class=\"dataframe\">\n",
       "  <thead>\n",
       "    <tr style=\"text-align: right;\">\n",
       "      <th></th>\n",
       "      <th>Questions</th>\n",
       "      <th>Answers</th>\n",
       "    </tr>\n",
       "  </thead>\n",
       "  <tbody>\n",
       "    <tr>\n",
       "      <th>0</th>\n",
       "      <td>i'm fine. how about yourself?</td>\n",
       "      <td>i'm pretty good. thanks for asking.</td>\n",
       "    </tr>\n",
       "    <tr>\n",
       "      <th>1</th>\n",
       "      <td>i'm pretty good. thanks for asking.</td>\n",
       "      <td>no problem. so how have you been?</td>\n",
       "    </tr>\n",
       "    <tr>\n",
       "      <th>2</th>\n",
       "      <td>no problem. so how have you been?</td>\n",
       "      <td>i've been great. what about you?</td>\n",
       "    </tr>\n",
       "    <tr>\n",
       "      <th>3</th>\n",
       "      <td>i've been great. what about you?</td>\n",
       "      <td>i've been good. i'm in school right now.</td>\n",
       "    </tr>\n",
       "    <tr>\n",
       "      <th>4</th>\n",
       "      <td>i've been good. i'm in school right now.</td>\n",
       "      <td>what school do you go to?</td>\n",
       "    </tr>\n",
       "    <tr>\n",
       "      <th>...</th>\n",
       "      <td>...</td>\n",
       "      <td>...</td>\n",
       "    </tr>\n",
       "    <tr>\n",
       "      <th>3727</th>\n",
       "      <td>how are you</td>\n",
       "      <td>i'm fine. how about yourself?</td>\n",
       "    </tr>\n",
       "    <tr>\n",
       "      <th>3728</th>\n",
       "      <td>how are you doing</td>\n",
       "      <td>i'm fine. how about yourself?</td>\n",
       "    </tr>\n",
       "    <tr>\n",
       "      <th>3729</th>\n",
       "      <td>Hello</td>\n",
       "      <td>hi</td>\n",
       "    </tr>\n",
       "    <tr>\n",
       "      <th>3730</th>\n",
       "      <td>how are you</td>\n",
       "      <td>i'm fine. how about yourself?</td>\n",
       "    </tr>\n",
       "    <tr>\n",
       "      <th>3731</th>\n",
       "      <td>how are you</td>\n",
       "      <td>i'm fine. how about yourself?</td>\n",
       "    </tr>\n",
       "  </tbody>\n",
       "</table>\n",
       "<p>3732 rows × 2 columns</p>\n",
       "</div>"
      ],
      "text/plain": [
       "                                     Questions  \\\n",
       "0                i'm fine. how about yourself?   \n",
       "1          i'm pretty good. thanks for asking.   \n",
       "2            no problem. so how have you been?   \n",
       "3             i've been great. what about you?   \n",
       "4     i've been good. i'm in school right now.   \n",
       "...                                        ...   \n",
       "3727                               how are you   \n",
       "3728                         how are you doing   \n",
       "3729                                     Hello   \n",
       "3730                               how are you   \n",
       "3731                               how are you   \n",
       "\n",
       "                                       Answers  \n",
       "0          i'm pretty good. thanks for asking.  \n",
       "1            no problem. so how have you been?  \n",
       "2             i've been great. what about you?  \n",
       "3     i've been good. i'm in school right now.  \n",
       "4                    what school do you go to?  \n",
       "...                                        ...  \n",
       "3727             i'm fine. how about yourself?  \n",
       "3728             i'm fine. how about yourself?  \n",
       "3729                                        hi  \n",
       "3730             i'm fine. how about yourself?  \n",
       "3731             i'm fine. how about yourself?  \n",
       "\n",
       "[3732 rows x 2 columns]"
      ]
     },
     "execution_count": 18,
     "metadata": {},
     "output_type": "execute_result"
    }
   ],
   "source": [
    "df"
   ]
  },
  {
   "cell_type": "code",
   "execution_count": 19,
   "metadata": {
    "execution": {
     "iopub.execute_input": "2022-02-17T09:59:43.974525Z",
     "iopub.status.busy": "2022-02-17T09:59:43.973514Z",
     "iopub.status.idle": "2022-02-17T09:59:43.980679Z",
     "shell.execute_reply": "2022-02-17T09:59:43.980029Z",
     "shell.execute_reply.started": "2022-02-17T08:47:37.999553Z"
    },
    "papermill": {
     "duration": 0.03881,
     "end_time": "2022-02-17T09:59:43.980831",
     "exception": false,
     "start_time": "2022-02-17T09:59:43.942021",
     "status": "completed"
    },
    "tags": []
   },
   "outputs": [],
   "source": [
    "def cleaner(x):\n",
    "    return [a for a in (''.join([a for a in x if a not in string.punctuation])).lower().split()]"
   ]
  },
  {
   "cell_type": "markdown",
   "metadata": {
    "papermill": {
     "duration": 0.028419,
     "end_time": "2022-02-17T09:59:44.037856",
     "exception": false,
     "start_time": "2022-02-17T09:59:44.009437",
     "status": "completed"
    },
    "tags": []
   },
   "source": [
    "<h1><i><font face='Courier' size = 10>Decision Tree Classifier</font></i></h1>"
   ]
  },
  {
   "cell_type": "code",
   "execution_count": 20,
   "metadata": {
    "execution": {
     "iopub.execute_input": "2022-02-17T09:59:44.100723Z",
     "iopub.status.busy": "2022-02-17T09:59:44.100081Z",
     "iopub.status.idle": "2022-02-17T09:59:44.102441Z",
     "shell.execute_reply": "2022-02-17T09:59:44.102956Z",
     "shell.execute_reply.started": "2022-02-17T08:47:38.00933Z"
    },
    "papermill": {
     "duration": 0.037159,
     "end_time": "2022-02-17T09:59:44.103118",
     "exception": false,
     "start_time": "2022-02-17T09:59:44.065959",
     "status": "completed"
    },
    "tags": []
   },
   "outputs": [],
   "source": [
    "Pipe = Pipeline([\n",
    "    ('bow',CountVectorizer(analyzer=cleaner)),\n",
    "    ('tfidf',TfidfTransformer()),\n",
    "    ('classifier',DecisionTreeClassifier())\n",
    "])"
   ]
  },
  {
   "cell_type": "code",
   "execution_count": 21,
   "metadata": {
    "execution": {
     "iopub.execute_input": "2022-02-17T09:59:44.163678Z",
     "iopub.status.busy": "2022-02-17T09:59:44.162708Z",
     "iopub.status.idle": "2022-02-17T09:59:56.725255Z",
     "shell.execute_reply": "2022-02-17T09:59:56.724579Z",
     "shell.execute_reply.started": "2022-02-17T08:47:38.017326Z"
    },
    "papermill": {
     "duration": 12.594199,
     "end_time": "2022-02-17T09:59:56.725381",
     "exception": false,
     "start_time": "2022-02-17T09:59:44.131182",
     "status": "completed"
    },
    "tags": []
   },
   "outputs": [
    {
     "data": {
      "text/plain": [
       "Pipeline(steps=[('bow',\n",
       "                 CountVectorizer(analyzer=<function cleaner at 0x7f0f2bc97320>)),\n",
       "                ('tfidf', TfidfTransformer()),\n",
       "                ('classifier', DecisionTreeClassifier())])"
      ]
     },
     "execution_count": 21,
     "metadata": {},
     "output_type": "execute_result"
    }
   ],
   "source": [
    "Pipe.fit(df['Questions'],df['Answers'])"
   ]
  },
  {
   "cell_type": "markdown",
   "metadata": {
    "papermill": {
     "duration": 0.028186,
     "end_time": "2022-02-17T09:59:56.782321",
     "exception": false,
     "start_time": "2022-02-17T09:59:56.754135",
     "status": "completed"
    },
    "tags": []
   },
   "source": [
    "<h1><i><font face='Courier' size = 10>Now we can talk to our chatbot</font></i></h1>"
   ]
  },
  {
   "cell_type": "code",
   "execution_count": 22,
   "metadata": {
    "execution": {
     "iopub.execute_input": "2022-02-17T09:59:56.843103Z",
     "iopub.status.busy": "2022-02-17T09:59:56.842336Z",
     "iopub.status.idle": "2022-02-17T09:59:56.850526Z",
     "shell.execute_reply": "2022-02-17T09:59:56.850029Z",
     "shell.execute_reply.started": "2022-02-17T08:47:49.154619Z"
    },
    "papermill": {
     "duration": 0.039951,
     "end_time": "2022-02-17T09:59:56.850643",
     "exception": false,
     "start_time": "2022-02-17T09:59:56.810692",
     "status": "completed"
    },
    "tags": []
   },
   "outputs": [
    {
     "data": {
      "text/plain": [
       "'hello'"
      ]
     },
     "execution_count": 22,
     "metadata": {},
     "output_type": "execute_result"
    }
   ],
   "source": [
    "Pipe.predict(['hi'])[0]"
   ]
  },
  {
   "cell_type": "code",
   "execution_count": 23,
   "metadata": {
    "execution": {
     "iopub.execute_input": "2022-02-17T09:59:56.917962Z",
     "iopub.status.busy": "2022-02-17T09:59:56.917304Z",
     "iopub.status.idle": "2022-02-17T09:59:56.921069Z",
     "shell.execute_reply": "2022-02-17T09:59:56.920422Z",
     "shell.execute_reply.started": "2022-02-17T08:47:49.164167Z"
    },
    "papermill": {
     "duration": 0.041518,
     "end_time": "2022-02-17T09:59:56.921183",
     "exception": false,
     "start_time": "2022-02-17T09:59:56.879665",
     "status": "completed"
    },
    "tags": []
   },
   "outputs": [
    {
     "data": {
      "text/plain": [
       "\"i'm fine. how about yourself?\""
      ]
     },
     "execution_count": 23,
     "metadata": {},
     "output_type": "execute_result"
    }
   ],
   "source": [
    "Pipe.predict(['how are you'])[0]"
   ]
  },
  {
   "cell_type": "code",
   "execution_count": 24,
   "metadata": {
    "execution": {
     "iopub.execute_input": "2022-02-17T09:59:56.987456Z",
     "iopub.status.busy": "2022-02-17T09:59:56.985576Z",
     "iopub.status.idle": "2022-02-17T09:59:56.993968Z",
     "shell.execute_reply": "2022-02-17T09:59:56.993358Z",
     "shell.execute_reply.started": "2022-02-17T08:47:49.175484Z"
    },
    "papermill": {
     "duration": 0.043587,
     "end_time": "2022-02-17T09:59:56.994096",
     "exception": false,
     "start_time": "2022-02-17T09:59:56.950509",
     "status": "completed"
    },
    "tags": []
   },
   "outputs": [
    {
     "data": {
      "text/plain": [
       "'i appreciate that.'"
      ]
     },
     "execution_count": 24,
     "metadata": {},
     "output_type": "execute_result"
    }
   ],
   "source": [
    "Pipe.predict(['great'])[0]"
   ]
  },
  {
   "cell_type": "code",
   "execution_count": 25,
   "metadata": {
    "execution": {
     "iopub.execute_input": "2022-02-17T09:59:57.061296Z",
     "iopub.status.busy": "2022-02-17T09:59:57.060384Z",
     "iopub.status.idle": "2022-02-17T09:59:57.064681Z",
     "shell.execute_reply": "2022-02-17T09:59:57.064040Z",
     "shell.execute_reply.started": "2022-02-17T08:47:49.186542Z"
    },
    "papermill": {
     "duration": 0.04114,
     "end_time": "2022-02-17T09:59:57.064809",
     "exception": false,
     "start_time": "2022-02-17T09:59:57.023669",
     "status": "completed"
    },
    "tags": []
   },
   "outputs": [
    {
     "data": {
      "text/plain": [
       "\"i'm going to change the light bulb. it burnt out.\""
      ]
     },
     "execution_count": 25,
     "metadata": {},
     "output_type": "execute_result"
    }
   ],
   "source": [
    "Pipe.predict(['What are you doing'])[0]"
   ]
  },
  {
   "cell_type": "code",
   "execution_count": 26,
   "metadata": {
    "execution": {
     "iopub.execute_input": "2022-02-17T09:59:57.394569Z",
     "iopub.status.busy": "2022-02-17T09:59:57.393909Z",
     "iopub.status.idle": "2022-02-17T09:59:57.635436Z",
     "shell.execute_reply": "2022-02-17T09:59:57.634863Z",
     "shell.execute_reply.started": "2022-02-17T08:47:49.198012Z"
    },
    "papermill": {
     "duration": 0.541067,
     "end_time": "2022-02-17T09:59:57.635547",
     "exception": false,
     "start_time": "2022-02-17T09:59:57.094480",
     "status": "completed"
    },
    "tags": []
   },
   "outputs": [],
   "source": [
    "filename = 'questionanswer.pkl'\n",
    "pickle.dump(Pipe, open(filename, 'wb'))"
   ]
  },
  {
   "cell_type": "code",
   "execution_count": 27,
   "metadata": {
    "execution": {
     "iopub.execute_input": "2022-02-17T09:59:57.701926Z",
     "iopub.status.busy": "2022-02-17T09:59:57.700352Z",
     "iopub.status.idle": "2022-02-17T09:59:58.361719Z",
     "shell.execute_reply": "2022-02-17T09:59:58.361147Z",
     "shell.execute_reply.started": "2022-02-17T08:47:49.56331Z"
    },
    "papermill": {
     "duration": 0.696443,
     "end_time": "2022-02-17T09:59:58.361854",
     "exception": false,
     "start_time": "2022-02-17T09:59:57.665411",
     "status": "completed"
    },
    "tags": []
   },
   "outputs": [],
   "source": [
    "loaded_model = pickle.load(open(filename, 'rb'))"
   ]
  },
  {
   "cell_type": "code",
   "execution_count": 28,
   "metadata": {
    "execution": {
     "iopub.execute_input": "2022-02-17T09:59:58.430304Z",
     "iopub.status.busy": "2022-02-17T09:59:58.429629Z",
     "iopub.status.idle": "2022-02-17T09:59:58.433673Z",
     "shell.execute_reply": "2022-02-17T09:59:58.433126Z",
     "shell.execute_reply.started": "2022-02-17T08:47:50.005365Z"
    },
    "papermill": {
     "duration": 0.042192,
     "end_time": "2022-02-17T09:59:58.433798",
     "exception": false,
     "start_time": "2022-02-17T09:59:58.391606",
     "status": "completed"
    },
    "tags": []
   },
   "outputs": [
    {
     "data": {
      "text/plain": [
       "\"i'm going to change the light bulb. it burnt out.\""
      ]
     },
     "execution_count": 28,
     "metadata": {},
     "output_type": "execute_result"
    }
   ],
   "source": [
    "loaded_model.predict(['What are you doing'])[0]\n",
    "\n"
   ]
  },
  {
   "cell_type": "code",
   "execution_count": 29,
   "metadata": {
    "execution": {
     "iopub.execute_input": "2022-02-17T09:59:58.502343Z",
     "iopub.status.busy": "2022-02-17T09:59:58.501618Z",
     "iopub.status.idle": "2022-02-17T09:59:58.505654Z",
     "shell.execute_reply": "2022-02-17T09:59:58.504977Z",
     "shell.execute_reply.started": "2022-02-17T08:47:50.017308Z"
    },
    "papermill": {
     "duration": 0.041865,
     "end_time": "2022-02-17T09:59:58.505802",
     "exception": false,
     "start_time": "2022-02-17T09:59:58.463937",
     "status": "completed"
    },
    "tags": []
   },
   "outputs": [
    {
     "data": {
      "text/plain": [
       "'what school do you go to?'"
      ]
     },
     "execution_count": 29,
     "metadata": {},
     "output_type": "execute_result"
    }
   ],
   "source": [
    "loaded_model.predict(['ive been good. im in school right now.'])[0]"
   ]
  },
  {
   "cell_type": "code",
   "execution_count": null,
   "metadata": {
    "papermill": {
     "duration": 0.030515,
     "end_time": "2022-02-17T09:59:58.567500",
     "exception": false,
     "start_time": "2022-02-17T09:59:58.536985",
     "status": "completed"
    },
    "tags": []
   },
   "outputs": [],
   "source": []
  },
  {
   "cell_type": "markdown",
   "metadata": {
    "papermill": {
     "duration": 0.030492,
     "end_time": "2022-02-17T09:59:58.628840",
     "exception": false,
     "start_time": "2022-02-17T09:59:58.598348",
     "status": "completed"
    },
    "tags": []
   },
   "source": [
    "This is my Chatbot !\n",
    "feel free to copy and edit it or make a new better one\n",
    "and upvote if it was helpful"
   ]
  }
 ],
 "metadata": {
  "kernelspec": {
   "display_name": "Python 3",
   "language": "python",
   "name": "python3"
  },
  "language_info": {
   "codemirror_mode": {
    "name": "ipython",
    "version": 3
   },
   "file_extension": ".py",
   "mimetype": "text/x-python",
   "name": "python",
   "nbconvert_exporter": "python",
   "pygments_lexer": "ipython3",
   "version": "3.7.6"
  },
  "papermill": {
   "duration": 28.945954,
   "end_time": "2022-02-17T09:59:59.699571",
   "environment_variables": {},
   "exception": null,
   "input_path": "__notebook__.ipynb",
   "output_path": "__notebook__.ipynb",
   "parameters": {},
   "start_time": "2022-02-17T09:59:30.753617",
   "version": "2.1.0"
  }
 },
 "nbformat": 4,
 "nbformat_minor": 4
}
