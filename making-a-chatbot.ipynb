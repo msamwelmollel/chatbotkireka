{
 "cells": [
  {
   "cell_type": "markdown",
   "metadata": {
    "papermill": {
     "duration": 0.027071,
     "end_time": "2022-02-17T09:57:22.335590",
     "exception": false,
     "start_time": "2022-02-17T09:57:22.308519",
     "status": "completed"
    },
    "tags": []
   },
   "source": [
    "<h1 align='center'><b>\n",
    "    <img src='https://media3.giphy.com/media/KAq5w47R9rmTuvWOWa/giphy.gif' width=100 height=100>\n",
    "    <font color='sky blue' face='lucida handwriting'size=300>Py</font><font color='yellow' face='lucida handwriting' size=300>Tech</font></b></h1>\n",
    "    "
   ]
  },
  {
   "cell_type": "markdown",
   "metadata": {
    "papermill": {
     "duration": 0.025953,
     "end_time": "2022-02-17T09:57:22.387879",
     "exception": false,
     "start_time": "2022-02-17T09:57:22.361926",
     "status": "completed"
    },
    "tags": []
   },
   "source": [
    "<h1><i><font face='Courier' size = 10>Importing Libraries</font></i></h1>"
   ]
  },
  {
   "cell_type": "code",
   "execution_count": 1,
   "metadata": {
    "_cell_guid": "b1076dfc-b9ad-4769-8c92-a6c4dae69d19",
    "_uuid": "8f2839f25d086af736a60e9eeb907d3b93b6e0e5",
    "execution": {
     "iopub.execute_input": "2022-02-17T09:57:22.446007Z",
     "iopub.status.busy": "2022-02-17T09:57:22.444957Z",
     "iopub.status.idle": "2022-02-17T09:57:29.640480Z",
     "shell.execute_reply": "2022-02-17T09:57:29.639812Z",
     "shell.execute_reply.started": "2022-02-17T08:47:31.336401Z"
    },
    "papermill": {
     "duration": 7.225017,
     "end_time": "2022-02-17T09:57:29.640614",
     "exception": false,
     "start_time": "2022-02-17T09:57:22.415597",
     "status": "completed"
    },
    "tags": []
   },
   "outputs": [],
   "source": [
    "import numpy as np \n",
    "import string\n",
    "import tensorflow as tf, tensorflow.keras.backend as K\n",
    "from nltk.corpus import stopwords\n",
    "import pandas as pd \n",
    "from sklearn.feature_extraction.text import CountVectorizer\n",
    "from sklearn.tree import DecisionTreeClassifier\n",
    "from sklearn.feature_extraction.text import TfidfTransformer,TfidfVectorizer\n",
    "from sklearn.pipeline import Pipeline\n",
    "import pickle"
   ]
  },
  {
   "cell_type": "code",
   "execution_count": 2,
   "metadata": {
    "execution": {
     "iopub.execute_input": "2022-02-17T09:57:29.697013Z",
     "iopub.status.busy": "2022-02-17T09:57:29.696297Z",
     "iopub.status.idle": "2022-02-17T09:57:29.699502Z",
     "shell.execute_reply": "2022-02-17T09:57:29.700027Z",
     "shell.execute_reply.started": "2022-02-17T08:47:37.758017Z"
    },
    "papermill": {
     "duration": 0.033324,
     "end_time": "2022-02-17T09:57:29.700177",
     "exception": false,
     "start_time": "2022-02-17T09:57:29.666853",
     "status": "completed"
    },
    "tags": []
   },
   "outputs": [],
   "source": [
    "#from tf.keras.wrappers.scikit_learn.feature_extraction.text import TfidfTransformer,TfidfVectorizer"
   ]
  },
  {
   "cell_type": "code",
   "execution_count": 3,
   "metadata": {
    "execution": {
     "iopub.execute_input": "2022-02-17T09:57:29.757353Z",
     "iopub.status.busy": "2022-02-17T09:57:29.756673Z",
     "iopub.status.idle": "2022-02-17T09:57:29.791255Z",
     "shell.execute_reply": "2022-02-17T09:57:29.790609Z",
     "shell.execute_reply.started": "2022-02-17T08:47:37.76378Z"
    },
    "papermill": {
     "duration": 0.0652,
     "end_time": "2022-02-17T09:57:29.791388",
     "exception": false,
     "start_time": "2022-02-17T09:57:29.726188",
     "status": "completed"
    },
    "tags": []
   },
   "outputs": [],
   "source": [
    "df = pd.read_csv('../input/simple-dialogs-for-chatbot/dialogs.txt',sep='\\t')"
   ]
  },
  {
   "cell_type": "code",
   "execution_count": 4,
   "metadata": {
    "execution": {
     "iopub.execute_input": "2022-02-17T09:57:29.849657Z",
     "iopub.status.busy": "2022-02-17T09:57:29.848981Z",
     "iopub.status.idle": "2022-02-17T09:57:29.850794Z",
     "shell.execute_reply": "2022-02-17T09:57:29.851429Z",
     "shell.execute_reply.started": "2022-02-17T08:47:37.800347Z"
    },
    "papermill": {
     "duration": 0.033747,
     "end_time": "2022-02-17T09:57:29.851579",
     "exception": false,
     "start_time": "2022-02-17T09:57:29.817832",
     "status": "completed"
    },
    "tags": []
   },
   "outputs": [],
   "source": [
    "a = pd.Series(df.columns)"
   ]
  },
  {
   "cell_type": "code",
   "execution_count": 5,
   "metadata": {
    "execution": {
     "iopub.execute_input": "2022-02-17T09:57:29.907135Z",
     "iopub.status.busy": "2022-02-17T09:57:29.906458Z",
     "iopub.status.idle": "2022-02-17T09:57:29.928321Z",
     "shell.execute_reply": "2022-02-17T09:57:29.928846Z",
     "shell.execute_reply.started": "2022-02-17T08:47:37.810897Z"
    },
    "papermill": {
     "duration": 0.051392,
     "end_time": "2022-02-17T09:57:29.928996",
     "exception": false,
     "start_time": "2022-02-17T09:57:29.877604",
     "status": "completed"
    },
    "tags": []
   },
   "outputs": [
    {
     "data": {
      "text/html": [
       "<div>\n",
       "<style scoped>\n",
       "    .dataframe tbody tr th:only-of-type {\n",
       "        vertical-align: middle;\n",
       "    }\n",
       "\n",
       "    .dataframe tbody tr th {\n",
       "        vertical-align: top;\n",
       "    }\n",
       "\n",
       "    .dataframe thead th {\n",
       "        text-align: right;\n",
       "    }\n",
       "</style>\n",
       "<table border=\"1\" class=\"dataframe\">\n",
       "  <thead>\n",
       "    <tr style=\"text-align: right;\">\n",
       "      <th></th>\n",
       "      <th>hi, how are you doing?</th>\n",
       "      <th>i'm fine. how about yourself?</th>\n",
       "    </tr>\n",
       "  </thead>\n",
       "  <tbody>\n",
       "    <tr>\n",
       "      <th>0</th>\n",
       "      <td>i'm fine. how about yourself?</td>\n",
       "      <td>i'm pretty good. thanks for asking.</td>\n",
       "    </tr>\n",
       "    <tr>\n",
       "      <th>1</th>\n",
       "      <td>i'm pretty good. thanks for asking.</td>\n",
       "      <td>no problem. so how have you been?</td>\n",
       "    </tr>\n",
       "    <tr>\n",
       "      <th>2</th>\n",
       "      <td>no problem. so how have you been?</td>\n",
       "      <td>i've been great. what about you?</td>\n",
       "    </tr>\n",
       "    <tr>\n",
       "      <th>3</th>\n",
       "      <td>i've been great. what about you?</td>\n",
       "      <td>i've been good. i'm in school right now.</td>\n",
       "    </tr>\n",
       "    <tr>\n",
       "      <th>4</th>\n",
       "      <td>i've been good. i'm in school right now.</td>\n",
       "      <td>what school do you go to?</td>\n",
       "    </tr>\n",
       "    <tr>\n",
       "      <th>...</th>\n",
       "      <td>...</td>\n",
       "      <td>...</td>\n",
       "    </tr>\n",
       "    <tr>\n",
       "      <th>3719</th>\n",
       "      <td>that's a good question. maybe it's not old age.</td>\n",
       "      <td>are you right-handed?</td>\n",
       "    </tr>\n",
       "    <tr>\n",
       "      <th>3720</th>\n",
       "      <td>are you right-handed?</td>\n",
       "      <td>yes. all my life.</td>\n",
       "    </tr>\n",
       "    <tr>\n",
       "      <th>3721</th>\n",
       "      <td>yes. all my life.</td>\n",
       "      <td>you're wearing out your right hand. stop using...</td>\n",
       "    </tr>\n",
       "    <tr>\n",
       "      <th>3722</th>\n",
       "      <td>you're wearing out your right hand. stop using...</td>\n",
       "      <td>but i do all my writing with my right hand.</td>\n",
       "    </tr>\n",
       "    <tr>\n",
       "      <th>3723</th>\n",
       "      <td>but i do all my writing with my right hand.</td>\n",
       "      <td>start typing instead. that way your left hand ...</td>\n",
       "    </tr>\n",
       "  </tbody>\n",
       "</table>\n",
       "<p>3724 rows × 2 columns</p>\n",
       "</div>"
      ],
      "text/plain": [
       "                                 hi, how are you doing?  \\\n",
       "0                         i'm fine. how about yourself?   \n",
       "1                   i'm pretty good. thanks for asking.   \n",
       "2                     no problem. so how have you been?   \n",
       "3                      i've been great. what about you?   \n",
       "4              i've been good. i'm in school right now.   \n",
       "...                                                 ...   \n",
       "3719    that's a good question. maybe it's not old age.   \n",
       "3720                              are you right-handed?   \n",
       "3721                                  yes. all my life.   \n",
       "3722  you're wearing out your right hand. stop using...   \n",
       "3723        but i do all my writing with my right hand.   \n",
       "\n",
       "                          i'm fine. how about yourself?  \n",
       "0                   i'm pretty good. thanks for asking.  \n",
       "1                     no problem. so how have you been?  \n",
       "2                      i've been great. what about you?  \n",
       "3              i've been good. i'm in school right now.  \n",
       "4                             what school do you go to?  \n",
       "...                                                 ...  \n",
       "3719                              are you right-handed?  \n",
       "3720                                  yes. all my life.  \n",
       "3721  you're wearing out your right hand. stop using...  \n",
       "3722        but i do all my writing with my right hand.  \n",
       "3723  start typing instead. that way your left hand ...  \n",
       "\n",
       "[3724 rows x 2 columns]"
      ]
     },
     "execution_count": 5,
     "metadata": {},
     "output_type": "execute_result"
    }
   ],
   "source": [
    "df"
   ]
  },
  {
   "cell_type": "code",
   "execution_count": 6,
   "metadata": {
    "execution": {
     "iopub.execute_input": "2022-02-17T09:57:29.987069Z",
     "iopub.status.busy": "2022-02-17T09:57:29.985990Z",
     "iopub.status.idle": "2022-02-17T09:57:29.996302Z",
     "shell.execute_reply": "2022-02-17T09:57:29.996831Z",
     "shell.execute_reply.started": "2022-02-17T08:47:37.837383Z"
    },
    "papermill": {
     "duration": 0.040606,
     "end_time": "2022-02-17T09:57:29.996999",
     "exception": false,
     "start_time": "2022-02-17T09:57:29.956393",
     "status": "completed"
    },
    "tags": []
   },
   "outputs": [],
   "source": [
    "a = a.rename({0: df.columns[0],1: df.columns[1]})"
   ]
  },
  {
   "cell_type": "markdown",
   "metadata": {
    "papermill": {
     "duration": 0.026309,
     "end_time": "2022-02-17T09:57:30.050565",
     "exception": false,
     "start_time": "2022-02-17T09:57:30.024256",
     "status": "completed"
    },
    "tags": []
   },
   "source": [
    "<h1><i><font face='Courier' size = 10>Adding some common Questions</font></i></h1>"
   ]
  },
  {
   "cell_type": "code",
   "execution_count": 7,
   "metadata": {
    "execution": {
     "iopub.execute_input": "2022-02-17T09:57:30.109273Z",
     "iopub.status.busy": "2022-02-17T09:57:30.108532Z",
     "iopub.status.idle": "2022-02-17T09:57:30.111749Z",
     "shell.execute_reply": "2022-02-17T09:57:30.111116Z",
     "shell.execute_reply.started": "2022-02-17T08:47:37.847908Z"
    },
    "papermill": {
     "duration": 0.034537,
     "end_time": "2022-02-17T09:57:30.111865",
     "exception": false,
     "start_time": "2022-02-17T09:57:30.077328",
     "status": "completed"
    },
    "tags": []
   },
   "outputs": [],
   "source": [
    "b = {'Questions':'Hi','Answers':'hello'}"
   ]
  },
  {
   "cell_type": "code",
   "execution_count": 8,
   "metadata": {
    "execution": {
     "iopub.execute_input": "2022-02-17T09:57:30.171175Z",
     "iopub.status.busy": "2022-02-17T09:57:30.170308Z",
     "iopub.status.idle": "2022-02-17T09:57:30.173479Z",
     "shell.execute_reply": "2022-02-17T09:57:30.172956Z",
     "shell.execute_reply.started": "2022-02-17T08:47:37.85662Z"
    },
    "papermill": {
     "duration": 0.035214,
     "end_time": "2022-02-17T09:57:30.173606",
     "exception": false,
     "start_time": "2022-02-17T09:57:30.138392",
     "status": "completed"
    },
    "tags": []
   },
   "outputs": [],
   "source": [
    "c = {'Questions':'Hello','Answers':'hi'}"
   ]
  },
  {
   "cell_type": "code",
   "execution_count": 9,
   "metadata": {
    "execution": {
     "iopub.execute_input": "2022-02-17T09:57:30.232376Z",
     "iopub.status.busy": "2022-02-17T09:57:30.231689Z",
     "iopub.status.idle": "2022-02-17T09:57:30.234864Z",
     "shell.execute_reply": "2022-02-17T09:57:30.234354Z",
     "shell.execute_reply.started": "2022-02-17T08:47:37.868947Z"
    },
    "papermill": {
     "duration": 0.034661,
     "end_time": "2022-02-17T09:57:30.234980",
     "exception": false,
     "start_time": "2022-02-17T09:57:30.200319",
     "status": "completed"
    },
    "tags": []
   },
   "outputs": [],
   "source": [
    "d= {'Questions':'how are you','Answers':\"i'm fine. how about yourself?\"}"
   ]
  },
  {
   "cell_type": "code",
   "execution_count": 10,
   "metadata": {
    "execution": {
     "iopub.execute_input": "2022-02-17T09:57:30.294163Z",
     "iopub.status.busy": "2022-02-17T09:57:30.293278Z",
     "iopub.status.idle": "2022-02-17T09:57:30.296363Z",
     "shell.execute_reply": "2022-02-17T09:57:30.295810Z",
     "shell.execute_reply.started": "2022-02-17T08:47:37.877169Z"
    },
    "papermill": {
     "duration": 0.034799,
     "end_time": "2022-02-17T09:57:30.296482",
     "exception": false,
     "start_time": "2022-02-17T09:57:30.261683",
     "status": "completed"
    },
    "tags": []
   },
   "outputs": [],
   "source": [
    "e= {'Questions':'how are you doing','Answers':\"i'm fine. how about yourself?\"}"
   ]
  },
  {
   "cell_type": "code",
   "execution_count": 11,
   "metadata": {
    "execution": {
     "iopub.execute_input": "2022-02-17T09:57:30.358917Z",
     "iopub.status.busy": "2022-02-17T09:57:30.358183Z",
     "iopub.status.idle": "2022-02-17T09:57:30.361427Z",
     "shell.execute_reply": "2022-02-17T09:57:30.360787Z",
     "shell.execute_reply.started": "2022-02-17T08:47:37.886652Z"
    },
    "papermill": {
     "duration": 0.038352,
     "end_time": "2022-02-17T09:57:30.361542",
     "exception": false,
     "start_time": "2022-02-17T09:57:30.323190",
     "status": "completed"
    },
    "tags": []
   },
   "outputs": [],
   "source": [
    "df = df.append(a,ignore_index=True)"
   ]
  },
  {
   "cell_type": "code",
   "execution_count": 12,
   "metadata": {
    "execution": {
     "iopub.execute_input": "2022-02-17T09:57:30.420535Z",
     "iopub.status.busy": "2022-02-17T09:57:30.419795Z",
     "iopub.status.idle": "2022-02-17T09:57:30.423845Z",
     "shell.execute_reply": "2022-02-17T09:57:30.423250Z",
     "shell.execute_reply.started": "2022-02-17T08:47:37.898297Z"
    },
    "papermill": {
     "duration": 0.035712,
     "end_time": "2022-02-17T09:57:30.423988",
     "exception": false,
     "start_time": "2022-02-17T09:57:30.388276",
     "status": "completed"
    },
    "tags": []
   },
   "outputs": [],
   "source": [
    "df.columns=['Questions','Answers']"
   ]
  },
  {
   "cell_type": "code",
   "execution_count": 13,
   "metadata": {
    "execution": {
     "iopub.execute_input": "2022-02-17T09:57:30.483346Z",
     "iopub.status.busy": "2022-02-17T09:57:30.482405Z",
     "iopub.status.idle": "2022-02-17T09:57:30.491160Z",
     "shell.execute_reply": "2022-02-17T09:57:30.490457Z",
     "shell.execute_reply.started": "2022-02-17T08:47:37.906149Z"
    },
    "papermill": {
     "duration": 0.040455,
     "end_time": "2022-02-17T09:57:30.491285",
     "exception": false,
     "start_time": "2022-02-17T09:57:30.450830",
     "status": "completed"
    },
    "tags": []
   },
   "outputs": [],
   "source": [
    "df = df.append([b,c,d,e],ignore_index=True)"
   ]
  },
  {
   "cell_type": "code",
   "execution_count": 14,
   "metadata": {
    "execution": {
     "iopub.execute_input": "2022-02-17T09:57:30.556769Z",
     "iopub.status.busy": "2022-02-17T09:57:30.556063Z",
     "iopub.status.idle": "2022-02-17T09:57:30.560188Z",
     "shell.execute_reply": "2022-02-17T09:57:30.560675Z",
     "shell.execute_reply.started": "2022-02-17T08:47:37.922275Z"
    },
    "papermill": {
     "duration": 0.042872,
     "end_time": "2022-02-17T09:57:30.560873",
     "exception": false,
     "start_time": "2022-02-17T09:57:30.518001",
     "status": "completed"
    },
    "tags": []
   },
   "outputs": [
    {
     "data": {
      "text/html": [
       "<div>\n",
       "<style scoped>\n",
       "    .dataframe tbody tr th:only-of-type {\n",
       "        vertical-align: middle;\n",
       "    }\n",
       "\n",
       "    .dataframe tbody tr th {\n",
       "        vertical-align: top;\n",
       "    }\n",
       "\n",
       "    .dataframe thead th {\n",
       "        text-align: right;\n",
       "    }\n",
       "</style>\n",
       "<table border=\"1\" class=\"dataframe\">\n",
       "  <thead>\n",
       "    <tr style=\"text-align: right;\">\n",
       "      <th></th>\n",
       "      <th>Questions</th>\n",
       "      <th>Answers</th>\n",
       "    </tr>\n",
       "  </thead>\n",
       "  <tbody>\n",
       "    <tr>\n",
       "      <th>0</th>\n",
       "      <td>i'm fine. how about yourself?</td>\n",
       "      <td>i'm pretty good. thanks for asking.</td>\n",
       "    </tr>\n",
       "    <tr>\n",
       "      <th>1</th>\n",
       "      <td>i'm pretty good. thanks for asking.</td>\n",
       "      <td>no problem. so how have you been?</td>\n",
       "    </tr>\n",
       "    <tr>\n",
       "      <th>2</th>\n",
       "      <td>no problem. so how have you been?</td>\n",
       "      <td>i've been great. what about you?</td>\n",
       "    </tr>\n",
       "    <tr>\n",
       "      <th>3</th>\n",
       "      <td>i've been great. what about you?</td>\n",
       "      <td>i've been good. i'm in school right now.</td>\n",
       "    </tr>\n",
       "    <tr>\n",
       "      <th>4</th>\n",
       "      <td>i've been good. i'm in school right now.</td>\n",
       "      <td>what school do you go to?</td>\n",
       "    </tr>\n",
       "    <tr>\n",
       "      <th>...</th>\n",
       "      <td>...</td>\n",
       "      <td>...</td>\n",
       "    </tr>\n",
       "    <tr>\n",
       "      <th>3724</th>\n",
       "      <td>hi, how are you doing?</td>\n",
       "      <td>i'm fine. how about yourself?</td>\n",
       "    </tr>\n",
       "    <tr>\n",
       "      <th>3725</th>\n",
       "      <td>Hi</td>\n",
       "      <td>hello</td>\n",
       "    </tr>\n",
       "    <tr>\n",
       "      <th>3726</th>\n",
       "      <td>Hello</td>\n",
       "      <td>hi</td>\n",
       "    </tr>\n",
       "    <tr>\n",
       "      <th>3727</th>\n",
       "      <td>how are you</td>\n",
       "      <td>i'm fine. how about yourself?</td>\n",
       "    </tr>\n",
       "    <tr>\n",
       "      <th>3728</th>\n",
       "      <td>how are you doing</td>\n",
       "      <td>i'm fine. how about yourself?</td>\n",
       "    </tr>\n",
       "  </tbody>\n",
       "</table>\n",
       "<p>3729 rows × 2 columns</p>\n",
       "</div>"
      ],
      "text/plain": [
       "                                     Questions  \\\n",
       "0                i'm fine. how about yourself?   \n",
       "1          i'm pretty good. thanks for asking.   \n",
       "2            no problem. so how have you been?   \n",
       "3             i've been great. what about you?   \n",
       "4     i've been good. i'm in school right now.   \n",
       "...                                        ...   \n",
       "3724                    hi, how are you doing?   \n",
       "3725                                        Hi   \n",
       "3726                                     Hello   \n",
       "3727                               how are you   \n",
       "3728                         how are you doing   \n",
       "\n",
       "                                       Answers  \n",
       "0          i'm pretty good. thanks for asking.  \n",
       "1            no problem. so how have you been?  \n",
       "2             i've been great. what about you?  \n",
       "3     i've been good. i'm in school right now.  \n",
       "4                    what school do you go to?  \n",
       "...                                        ...  \n",
       "3724             i'm fine. how about yourself?  \n",
       "3725                                     hello  \n",
       "3726                                        hi  \n",
       "3727             i'm fine. how about yourself?  \n",
       "3728             i'm fine. how about yourself?  \n",
       "\n",
       "[3729 rows x 2 columns]"
      ]
     },
     "execution_count": 14,
     "metadata": {},
     "output_type": "execute_result"
    }
   ],
   "source": [
    "df"
   ]
  },
  {
   "cell_type": "code",
   "execution_count": 15,
   "metadata": {
    "execution": {
     "iopub.execute_input": "2022-02-17T09:57:30.624056Z",
     "iopub.status.busy": "2022-02-17T09:57:30.623368Z",
     "iopub.status.idle": "2022-02-17T09:57:30.626534Z",
     "shell.execute_reply": "2022-02-17T09:57:30.625887Z",
     "shell.execute_reply.started": "2022-02-17T08:47:37.942561Z"
    },
    "papermill": {
     "duration": 0.038539,
     "end_time": "2022-02-17T09:57:30.626754",
     "exception": false,
     "start_time": "2022-02-17T09:57:30.588215",
     "status": "completed"
    },
    "tags": []
   },
   "outputs": [],
   "source": [
    "df = df.append(c,ignore_index=True)"
   ]
  },
  {
   "cell_type": "code",
   "execution_count": 16,
   "metadata": {
    "execution": {
     "iopub.execute_input": "2022-02-17T09:57:30.691306Z",
     "iopub.status.busy": "2022-02-17T09:57:30.690608Z",
     "iopub.status.idle": "2022-02-17T09:57:30.694124Z",
     "shell.execute_reply": "2022-02-17T09:57:30.693254Z",
     "shell.execute_reply.started": "2022-02-17T08:47:37.958473Z"
    },
    "papermill": {
     "duration": 0.039974,
     "end_time": "2022-02-17T09:57:30.694282",
     "exception": false,
     "start_time": "2022-02-17T09:57:30.654308",
     "status": "completed"
    },
    "tags": []
   },
   "outputs": [],
   "source": [
    "df = df.append(d,ignore_index=True)"
   ]
  },
  {
   "cell_type": "code",
   "execution_count": 17,
   "metadata": {
    "execution": {
     "iopub.execute_input": "2022-02-17T09:57:30.759103Z",
     "iopub.status.busy": "2022-02-17T09:57:30.758394Z",
     "iopub.status.idle": "2022-02-17T09:57:30.761887Z",
     "shell.execute_reply": "2022-02-17T09:57:30.761358Z",
     "shell.execute_reply.started": "2022-02-17T08:47:37.970601Z"
    },
    "papermill": {
     "duration": 0.039044,
     "end_time": "2022-02-17T09:57:30.762011",
     "exception": false,
     "start_time": "2022-02-17T09:57:30.722967",
     "status": "completed"
    },
    "tags": []
   },
   "outputs": [],
   "source": [
    "df = df.append(d,ignore_index=True)"
   ]
  },
  {
   "cell_type": "code",
   "execution_count": 18,
   "metadata": {
    "execution": {
     "iopub.execute_input": "2022-02-17T09:57:30.830345Z",
     "iopub.status.busy": "2022-02-17T09:57:30.829650Z",
     "iopub.status.idle": "2022-02-17T09:57:30.833906Z",
     "shell.execute_reply": "2022-02-17T09:57:30.833259Z",
     "shell.execute_reply.started": "2022-02-17T08:47:37.980602Z"
    },
    "papermill": {
     "duration": 0.043962,
     "end_time": "2022-02-17T09:57:30.834026",
     "exception": false,
     "start_time": "2022-02-17T09:57:30.790064",
     "status": "completed"
    },
    "tags": []
   },
   "outputs": [
    {
     "data": {
      "text/html": [
       "<div>\n",
       "<style scoped>\n",
       "    .dataframe tbody tr th:only-of-type {\n",
       "        vertical-align: middle;\n",
       "    }\n",
       "\n",
       "    .dataframe tbody tr th {\n",
       "        vertical-align: top;\n",
       "    }\n",
       "\n",
       "    .dataframe thead th {\n",
       "        text-align: right;\n",
       "    }\n",
       "</style>\n",
       "<table border=\"1\" class=\"dataframe\">\n",
       "  <thead>\n",
       "    <tr style=\"text-align: right;\">\n",
       "      <th></th>\n",
       "      <th>Questions</th>\n",
       "      <th>Answers</th>\n",
       "    </tr>\n",
       "  </thead>\n",
       "  <tbody>\n",
       "    <tr>\n",
       "      <th>0</th>\n",
       "      <td>i'm fine. how about yourself?</td>\n",
       "      <td>i'm pretty good. thanks for asking.</td>\n",
       "    </tr>\n",
       "    <tr>\n",
       "      <th>1</th>\n",
       "      <td>i'm pretty good. thanks for asking.</td>\n",
       "      <td>no problem. so how have you been?</td>\n",
       "    </tr>\n",
       "    <tr>\n",
       "      <th>2</th>\n",
       "      <td>no problem. so how have you been?</td>\n",
       "      <td>i've been great. what about you?</td>\n",
       "    </tr>\n",
       "    <tr>\n",
       "      <th>3</th>\n",
       "      <td>i've been great. what about you?</td>\n",
       "      <td>i've been good. i'm in school right now.</td>\n",
       "    </tr>\n",
       "    <tr>\n",
       "      <th>4</th>\n",
       "      <td>i've been good. i'm in school right now.</td>\n",
       "      <td>what school do you go to?</td>\n",
       "    </tr>\n",
       "    <tr>\n",
       "      <th>...</th>\n",
       "      <td>...</td>\n",
       "      <td>...</td>\n",
       "    </tr>\n",
       "    <tr>\n",
       "      <th>3727</th>\n",
       "      <td>how are you</td>\n",
       "      <td>i'm fine. how about yourself?</td>\n",
       "    </tr>\n",
       "    <tr>\n",
       "      <th>3728</th>\n",
       "      <td>how are you doing</td>\n",
       "      <td>i'm fine. how about yourself?</td>\n",
       "    </tr>\n",
       "    <tr>\n",
       "      <th>3729</th>\n",
       "      <td>Hello</td>\n",
       "      <td>hi</td>\n",
       "    </tr>\n",
       "    <tr>\n",
       "      <th>3730</th>\n",
       "      <td>how are you</td>\n",
       "      <td>i'm fine. how about yourself?</td>\n",
       "    </tr>\n",
       "    <tr>\n",
       "      <th>3731</th>\n",
       "      <td>how are you</td>\n",
       "      <td>i'm fine. how about yourself?</td>\n",
       "    </tr>\n",
       "  </tbody>\n",
       "</table>\n",
       "<p>3732 rows × 2 columns</p>\n",
       "</div>"
      ],
      "text/plain": [
       "                                     Questions  \\\n",
       "0                i'm fine. how about yourself?   \n",
       "1          i'm pretty good. thanks for asking.   \n",
       "2            no problem. so how have you been?   \n",
       "3             i've been great. what about you?   \n",
       "4     i've been good. i'm in school right now.   \n",
       "...                                        ...   \n",
       "3727                               how are you   \n",
       "3728                         how are you doing   \n",
       "3729                                     Hello   \n",
       "3730                               how are you   \n",
       "3731                               how are you   \n",
       "\n",
       "                                       Answers  \n",
       "0          i'm pretty good. thanks for asking.  \n",
       "1            no problem. so how have you been?  \n",
       "2             i've been great. what about you?  \n",
       "3     i've been good. i'm in school right now.  \n",
       "4                    what school do you go to?  \n",
       "...                                        ...  \n",
       "3727             i'm fine. how about yourself?  \n",
       "3728             i'm fine. how about yourself?  \n",
       "3729                                        hi  \n",
       "3730             i'm fine. how about yourself?  \n",
       "3731             i'm fine. how about yourself?  \n",
       "\n",
       "[3732 rows x 2 columns]"
      ]
     },
     "execution_count": 18,
     "metadata": {},
     "output_type": "execute_result"
    }
   ],
   "source": [
    "df"
   ]
  },
  {
   "cell_type": "code",
   "execution_count": 19,
   "metadata": {
    "execution": {
     "iopub.execute_input": "2022-02-17T09:57:30.896642Z",
     "iopub.status.busy": "2022-02-17T09:57:30.895936Z",
     "iopub.status.idle": "2022-02-17T09:57:30.898953Z",
     "shell.execute_reply": "2022-02-17T09:57:30.898390Z",
     "shell.execute_reply.started": "2022-02-17T08:47:37.999553Z"
    },
    "papermill": {
     "duration": 0.037141,
     "end_time": "2022-02-17T09:57:30.899073",
     "exception": false,
     "start_time": "2022-02-17T09:57:30.861932",
     "status": "completed"
    },
    "tags": []
   },
   "outputs": [],
   "source": [
    "def cleaner(x):\n",
    "    return [a for a in (''.join([a for a in x if a not in string.punctuation])).lower().split()]"
   ]
  },
  {
   "cell_type": "markdown",
   "metadata": {
    "papermill": {
     "duration": 0.027497,
     "end_time": "2022-02-17T09:57:30.954219",
     "exception": false,
     "start_time": "2022-02-17T09:57:30.926722",
     "status": "completed"
    },
    "tags": []
   },
   "source": [
    "<h1><i><font face='Courier' size = 10>Decision Tree Classifier</font></i></h1>"
   ]
  },
  {
   "cell_type": "code",
   "execution_count": 20,
   "metadata": {
    "execution": {
     "iopub.execute_input": "2022-02-17T09:57:31.016645Z",
     "iopub.status.busy": "2022-02-17T09:57:31.015973Z",
     "iopub.status.idle": "2022-02-17T09:57:31.019101Z",
     "shell.execute_reply": "2022-02-17T09:57:31.018505Z",
     "shell.execute_reply.started": "2022-02-17T08:47:38.00933Z"
    },
    "papermill": {
     "duration": 0.036791,
     "end_time": "2022-02-17T09:57:31.019231",
     "exception": false,
     "start_time": "2022-02-17T09:57:30.982440",
     "status": "completed"
    },
    "tags": []
   },
   "outputs": [],
   "source": [
    "Pipe = Pipeline([\n",
    "    ('bow',CountVectorizer(analyzer=cleaner)),\n",
    "    ('tfidf',TfidfTransformer()),\n",
    "    ('classifier',DecisionTreeClassifier())\n",
    "])"
   ]
  },
  {
   "cell_type": "code",
   "execution_count": 21,
   "metadata": {
    "execution": {
     "iopub.execute_input": "2022-02-17T09:57:31.104384Z",
     "iopub.status.busy": "2022-02-17T09:57:31.088661Z",
     "iopub.status.idle": "2022-02-17T09:57:43.315416Z",
     "shell.execute_reply": "2022-02-17T09:57:43.314652Z",
     "shell.execute_reply.started": "2022-02-17T08:47:38.017326Z"
    },
    "papermill": {
     "duration": 12.268364,
     "end_time": "2022-02-17T09:57:43.315546",
     "exception": false,
     "start_time": "2022-02-17T09:57:31.047182",
     "status": "completed"
    },
    "tags": []
   },
   "outputs": [
    {
     "data": {
      "text/plain": [
       "Pipeline(steps=[('bow',\n",
       "                 CountVectorizer(analyzer=<function cleaner at 0x7f6fc9448dd0>)),\n",
       "                ('tfidf', TfidfTransformer()),\n",
       "                ('classifier', DecisionTreeClassifier())])"
      ]
     },
     "execution_count": 21,
     "metadata": {},
     "output_type": "execute_result"
    }
   ],
   "source": [
    "Pipe.fit(df['Questions'],df['Answers'])"
   ]
  },
  {
   "cell_type": "markdown",
   "metadata": {
    "papermill": {
     "duration": 0.027789,
     "end_time": "2022-02-17T09:57:43.371503",
     "exception": false,
     "start_time": "2022-02-17T09:57:43.343714",
     "status": "completed"
    },
    "tags": []
   },
   "source": [
    "<h1><i><font face='Courier' size = 10>Now we can talk to our chatbot</font></i></h1>"
   ]
  },
  {
   "cell_type": "code",
   "execution_count": 22,
   "metadata": {
    "execution": {
     "iopub.execute_input": "2022-02-17T09:57:43.435231Z",
     "iopub.status.busy": "2022-02-17T09:57:43.434160Z",
     "iopub.status.idle": "2022-02-17T09:57:43.439482Z",
     "shell.execute_reply": "2022-02-17T09:57:43.438727Z",
     "shell.execute_reply.started": "2022-02-17T08:47:49.154619Z"
    },
    "papermill": {
     "duration": 0.040133,
     "end_time": "2022-02-17T09:57:43.439610",
     "exception": false,
     "start_time": "2022-02-17T09:57:43.399477",
     "status": "completed"
    },
    "tags": []
   },
   "outputs": [
    {
     "data": {
      "text/plain": [
       "'hello'"
      ]
     },
     "execution_count": 22,
     "metadata": {},
     "output_type": "execute_result"
    }
   ],
   "source": [
    "Pipe.predict(['hi'])[0]"
   ]
  },
  {
   "cell_type": "code",
   "execution_count": 23,
   "metadata": {
    "execution": {
     "iopub.execute_input": "2022-02-17T09:57:43.504804Z",
     "iopub.status.busy": "2022-02-17T09:57:43.504128Z",
     "iopub.status.idle": "2022-02-17T09:57:43.508532Z",
     "shell.execute_reply": "2022-02-17T09:57:43.507992Z",
     "shell.execute_reply.started": "2022-02-17T08:47:49.164167Z"
    },
    "papermill": {
     "duration": 0.039951,
     "end_time": "2022-02-17T09:57:43.508650",
     "exception": false,
     "start_time": "2022-02-17T09:57:43.468699",
     "status": "completed"
    },
    "tags": []
   },
   "outputs": [
    {
     "data": {
      "text/plain": [
       "\"i'm fine. how about yourself?\""
      ]
     },
     "execution_count": 23,
     "metadata": {},
     "output_type": "execute_result"
    }
   ],
   "source": [
    "Pipe.predict(['how are you'])[0]"
   ]
  },
  {
   "cell_type": "code",
   "execution_count": 24,
   "metadata": {
    "execution": {
     "iopub.execute_input": "2022-02-17T09:57:43.574643Z",
     "iopub.status.busy": "2022-02-17T09:57:43.573961Z",
     "iopub.status.idle": "2022-02-17T09:57:43.576906Z",
     "shell.execute_reply": "2022-02-17T09:57:43.577521Z",
     "shell.execute_reply.started": "2022-02-17T08:47:49.175484Z"
    },
    "papermill": {
     "duration": 0.039773,
     "end_time": "2022-02-17T09:57:43.577671",
     "exception": false,
     "start_time": "2022-02-17T09:57:43.537898",
     "status": "completed"
    },
    "tags": []
   },
   "outputs": [
    {
     "data": {
      "text/plain": [
       "'i appreciate that.'"
      ]
     },
     "execution_count": 24,
     "metadata": {},
     "output_type": "execute_result"
    }
   ],
   "source": [
    "Pipe.predict(['great'])[0]"
   ]
  },
  {
   "cell_type": "code",
   "execution_count": 25,
   "metadata": {
    "execution": {
     "iopub.execute_input": "2022-02-17T09:57:43.639156Z",
     "iopub.status.busy": "2022-02-17T09:57:43.638502Z",
     "iopub.status.idle": "2022-02-17T09:57:43.646401Z",
     "shell.execute_reply": "2022-02-17T09:57:43.646941Z",
     "shell.execute_reply.started": "2022-02-17T08:47:49.186542Z"
    },
    "papermill": {
     "duration": 0.039996,
     "end_time": "2022-02-17T09:57:43.647098",
     "exception": false,
     "start_time": "2022-02-17T09:57:43.607102",
     "status": "completed"
    },
    "tags": []
   },
   "outputs": [
    {
     "data": {
      "text/plain": [
       "\"i'm going to change the light bulb. it burnt out.\""
      ]
     },
     "execution_count": 25,
     "metadata": {},
     "output_type": "execute_result"
    }
   ],
   "source": [
    "Pipe.predict(['What are you doing'])[0]"
   ]
  },
  {
   "cell_type": "code",
   "execution_count": 26,
   "metadata": {
    "execution": {
     "iopub.execute_input": "2022-02-17T09:57:43.711051Z",
     "iopub.status.busy": "2022-02-17T09:57:43.710320Z",
     "iopub.status.idle": "2022-02-17T09:57:44.052344Z",
     "shell.execute_reply": "2022-02-17T09:57:44.053016Z",
     "shell.execute_reply.started": "2022-02-17T08:47:49.198012Z"
    },
    "papermill": {
     "duration": 0.376646,
     "end_time": "2022-02-17T09:57:44.053188",
     "exception": false,
     "start_time": "2022-02-17T09:57:43.676542",
     "status": "completed"
    },
    "tags": []
   },
   "outputs": [],
   "source": [
    "filename = 'questionanswer.pkl'\n",
    "pickle.dump(Pipe, open(filename, 'wb'))"
   ]
  },
  {
   "cell_type": "code",
   "execution_count": 27,
   "metadata": {
    "execution": {
     "iopub.execute_input": "2022-02-17T09:57:44.115608Z",
     "iopub.status.busy": "2022-02-17T09:57:44.114979Z",
     "iopub.status.idle": "2022-02-17T09:57:44.578158Z",
     "shell.execute_reply": "2022-02-17T09:57:44.577505Z",
     "shell.execute_reply.started": "2022-02-17T08:47:49.56331Z"
    },
    "papermill": {
     "duration": 0.495448,
     "end_time": "2022-02-17T09:57:44.578294",
     "exception": false,
     "start_time": "2022-02-17T09:57:44.082846",
     "status": "completed"
    },
    "tags": []
   },
   "outputs": [],
   "source": [
    "loaded_model = pickle.load(open(filename, 'rb'))"
   ]
  },
  {
   "cell_type": "code",
   "execution_count": 28,
   "metadata": {
    "execution": {
     "iopub.execute_input": "2022-02-17T09:57:44.645227Z",
     "iopub.status.busy": "2022-02-17T09:57:44.644409Z",
     "iopub.status.idle": "2022-02-17T09:57:44.648283Z",
     "shell.execute_reply": "2022-02-17T09:57:44.648958Z",
     "shell.execute_reply.started": "2022-02-17T08:47:50.005365Z"
    },
    "papermill": {
     "duration": 0.040685,
     "end_time": "2022-02-17T09:57:44.649112",
     "exception": false,
     "start_time": "2022-02-17T09:57:44.608427",
     "status": "completed"
    },
    "tags": []
   },
   "outputs": [
    {
     "data": {
      "text/plain": [
       "\"i'm going to change the light bulb. it burnt out.\""
      ]
     },
     "execution_count": 28,
     "metadata": {},
     "output_type": "execute_result"
    }
   ],
   "source": [
    "loaded_model.predict(['What are you doing'])[0]\n",
    "\n"
   ]
  },
  {
   "cell_type": "code",
   "execution_count": 29,
   "metadata": {
    "execution": {
     "iopub.execute_input": "2022-02-17T09:57:44.718042Z",
     "iopub.status.busy": "2022-02-17T09:57:44.717056Z",
     "iopub.status.idle": "2022-02-17T09:57:44.720960Z",
     "shell.execute_reply": "2022-02-17T09:57:44.721411Z",
     "shell.execute_reply.started": "2022-02-17T08:47:50.017308Z"
    },
    "papermill": {
     "duration": 0.042494,
     "end_time": "2022-02-17T09:57:44.721572",
     "exception": false,
     "start_time": "2022-02-17T09:57:44.679078",
     "status": "completed"
    },
    "tags": []
   },
   "outputs": [
    {
     "data": {
      "text/plain": [
       "'what school do you go to?'"
      ]
     },
     "execution_count": 29,
     "metadata": {},
     "output_type": "execute_result"
    }
   ],
   "source": [
    "loaded_model.predict(['ive been good. im in school right now.'])[0]"
   ]
  },
  {
   "cell_type": "code",
   "execution_count": null,
   "metadata": {
    "papermill": {
     "duration": 0.029741,
     "end_time": "2022-02-17T09:57:44.782060",
     "exception": false,
     "start_time": "2022-02-17T09:57:44.752319",
     "status": "completed"
    },
    "tags": []
   },
   "outputs": [],
   "source": []
  },
  {
   "cell_type": "markdown",
   "metadata": {
    "papermill": {
     "duration": 0.029685,
     "end_time": "2022-02-17T09:57:44.841901",
     "exception": false,
     "start_time": "2022-02-17T09:57:44.812216",
     "status": "completed"
    },
    "tags": []
   },
   "source": [
    "This is my Chatbot !\n",
    "feel free to copy and edit it or make a new better one\n",
    "and upvote if it was helpful"
   ]
  }
 ],
 "metadata": {
  "kernelspec": {
   "display_name": "Python 3",
   "language": "python",
   "name": "python3"
  },
  "language_info": {
   "codemirror_mode": {
    "name": "ipython",
    "version": 3
   },
   "file_extension": ".py",
   "mimetype": "text/x-python",
   "name": "python",
   "nbconvert_exporter": "python",
   "pygments_lexer": "ipython3",
   "version": "3.7.6"
  },
  "papermill": {
   "duration": 27.170435,
   "end_time": "2022-02-17T09:57:44.980322",
   "environment_variables": {},
   "exception": null,
   "input_path": "__notebook__.ipynb",
   "output_path": "__notebook__.ipynb",
   "parameters": {},
   "start_time": "2022-02-17T09:57:17.809887",
   "version": "2.1.0"
  }
 },
 "nbformat": 4,
 "nbformat_minor": 4
}
